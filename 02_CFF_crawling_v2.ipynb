{
 "cells": [
  {
   "cell_type": "code",
   "execution_count": 18,
   "metadata": {},
   "outputs": [],
   "source": [
    "from selenium import webdriver\n",
    "from selenium.webdriver.common.keys import Keys\n",
    "from selenium.webdriver.support.ui import WebDriverWait\n",
    "from selenium.webdriver.support import expected_conditions as EC\n",
    "from selenium.webdriver.common.by import By\n",
    "import pandas as pd\n",
    "import requests\n",
    "from time import sleep\n",
    "\n",
    "import sys\n",
    "from collections import defaultdict # 콜렉션에서 불러옵니다.\n"
   ]
  },
  {
   "cell_type": "code",
   "execution_count": 11,
   "metadata": {},
   "outputs": [],
   "source": [
    "#chromdriver='/Users/seonghunjeong/Downloads/chromedriver'\n",
    "chromdriver=None"
   ]
  },
  {
   "cell_type": "code",
   "execution_count": 31,
   "metadata": {},
   "outputs": [],
   "source": [
    "if not chromdriver:\n",
    "    driver = webdriver.Chrome()\n",
    "else:\n",
    "    driver = webdriver.Chrome('/Users/seonghunjeong/Downloads/chromedriver')"
   ]
  },
  {
   "cell_type": "code",
   "execution_count": 32,
   "metadata": {},
   "outputs": [],
   "source": [
    "def parser(driver, target_address):\n",
    "        \n",
    "    num = target_address.split('/')[6]\n",
    "    \n",
    "    driver.get(target_address)\n",
    "    \n",
    "    try:\n",
    "        title = driver.find_elements_by_xpath(\"//div[@id='Main']/div[2]/div/div/div/h1\")[0].text\n",
    "        d[num]['title'] = title\n",
    "\n",
    "        desc = driver.find_elements_by_xpath(\"//div[@id='Main']/div[2]/div/div/div[3]/p\")[0].text\n",
    "        d[num]['description'] = desc\n",
    "\n",
    "        d[num]['site'] = target_address\n",
    "\n",
    "        ad = driver.find_element_by_css_selector('.HeadingList-col:nth-child(2)')\n",
    "        if ad.text.startswith('Additional Information'):\n",
    "            d[num]['PHASE'] = driver.find_element_by_css_selector('.HeadingList-col:nth-child(2) .HeadingList-item:nth-child(1) > .HeadingList-value').text\n",
    "            d[num]['STUDY SPONSOR'] = driver.find_element_by_css_selector('.HeadingList-col:nth-child(2) .HeadingList-item:nth-child(2) > .HeadingList-value').text\n",
    "            d[num]['STUDY DRUGS'] = driver.find_element_by_css_selector('.HeadingList-col:nth-child(2) .HeadingList-item:nth-child(3) > .HeadingList-value').text\n",
    "        else:\n",
    "            d[num]['PHASE'] = None\n",
    "            d[num]['STUDY SPONSOR'] = None\n",
    "            d[num]['STUDY DRUGS'] = None\n",
    "\n",
    "    \n",
    "        d[num]['STUDY TYPE'] = driver.find_element_by_css_selector('.HeadingList-col:nth-child(1) .HeadingList-item:nth-child(1) > .HeadingList-value').text\n",
    "        d[num]['RANDOMIZED STUDY'] = driver.find_element_by_css_selector('.HeadingList-col:nth-child(1) .HeadingList-item:nth-child(2) > .HeadingList-value').text\n",
    "        d[num]['PLACEBO CONTROLLED'] = driver.find_element_by_css_selector('.HeadingList-col:nth-child(1) .HeadingList-item:nth-child(3) > .HeadingList-value').text\n",
    "        d[num]['LENGTH OF PARTICIPATION'] = driver.find_element_by_css_selector('.HeadingList-col:nth-child(1) .HeadingList-item:nth-child(4) > .HeadingList-value').text\n",
    "        d[num]['NUMBER OF STUDY VISITS'] = driver.find_element_by_css_selector('.HeadingList-col:nth-child(1) .HeadingList-item:nth-child(5) > .HeadingList-value').text\n",
    "\n",
    "        d[num]['AGE'] = driver.find_element_by_css_selector('.u-hide-narrow .HeadingList-item:nth-child(1) > .HeadingList-value').text\n",
    "        d[num]['MUTATION(S)'] = driver.find_element_by_css_selector('.u-hide-narrow .HeadingList-item:nth-child(2) > .HeadingList-value').text\n",
    "        d[num]['FEV1% PREDICTED'] = driver.find_element_by_css_selector('.u-hide-narrow .HeadingList-item:nth-child(3) > .HeadingList-value').text\n",
    "    \n",
    "        Other_Primary_Eligibility_Criteria = driver.find_elements_by_xpath(\"//div[@id='Main']/div[2]/div/div/div[6]/p[2]\")\n",
    "        #if Other_Primary_Eligibility_Criteria:\n",
    "        #    d[num]['Other Primary Eligibility Criteria'] = driver.find_element_by_css_selector('.u-border-top:nth-child(8) > p:nth-child(3)').text\n",
    "        #else:\n",
    "        #    d[num]['Other Primary Eligibility Criteria'] = None\n",
    "        \n",
    "        sr =  driver.find_elements_by_css_selector('.HeadingList-item:nth-child(1) p:nth-child(2)')\n",
    "        if sr:\n",
    "            d[num]['WHAT WE LEARNED'] = sr[0].text\n",
    "        else:\n",
    "            d[num]['WHAT WE LEARNED'] = None\n",
    "\n",
    "\n",
    "        EFFECTIVENESS = driver.find_elements_by_css_selector('.u-border-top:nth-child(6) .HeadingList-item:nth-child(2) > .HeadingList-value:nth-child(2)')\n",
    "        if EFFECTIVENESS:\n",
    "\n",
    "            d[num]['EFFECTIVENESS'] = EFFECTIVENESS[0].text.replace('EFFECTIVENESS:\\n','')\n",
    "        else:\n",
    "            d[num]['EFFECTIVENESS'] = None\n",
    "    except OSError as err:\n",
    "        print(\"OS error: {0}\".format(err))\n",
    "    except ValueError:\n",
    "        print(\"Could not convert data to an integer.\")\n",
    "    except:\n",
    "        print(\"Unexpected error:\", sys.exc_info()[0])\n",
    "        raise\n",
    "\n",
    "    driver.implicitly_wait(1)"
   ]
  },
  {
   "cell_type": "code",
   "execution_count": 33,
   "metadata": {},
   "outputs": [],
   "source": [
    "target_address = 'https://www.cff.org/Trials/Finder/details/519/Phase-3-study-of-VX-445-triple-combination-drug-in-people-with-CF-ages-12-years-and-older-who-have-two-copies-of-the-F508del-mutation'\n",
    "parser(driver, target_address)"
   ]
  },
  {
   "cell_type": "code",
   "execution_count": 34,
   "metadata": {},
   "outputs": [
    {
     "name": "stdout",
     "output_type": "stream",
     "text": [
      "CPU times: user 3.98 s, sys: 326 ms, total: 4.31 s\n",
      "Wall time: 8min 44s\n"
     ]
    }
   ],
   "source": [
    "%%time\n",
    "\n",
    "d = defaultdict(dict)\n",
    "\n",
    "f = open('target_list.txt', 'r')\n",
    "lines = f.readlines()\n",
    "for line in lines:\n",
    "#    target_address = 'https://www.cff.org/Trials/Finder/details/278/Home-Monitoring-of-Lung-Function'\n",
    "\n",
    "    target_address = line.strip()\n",
    "    \n",
    "    parser(driver, target_address)\n",
    "    \n",
    "\n",
    "f.close()\n",
    "\n",
    "#driver.quit()"
   ]
  },
  {
   "cell_type": "code",
   "execution_count": 35,
   "metadata": {},
   "outputs": [],
   "source": [
    "import json\n",
    "with open('collection.json', 'w') as f:\n",
    "    json.dump(d, f, ensure_ascii=False)"
   ]
  },
  {
   "cell_type": "code",
   "execution_count": 37,
   "metadata": {},
   "outputs": [],
   "source": [
    "df = pd.read_json('collection.json')"
   ]
  },
  {
   "cell_type": "code",
   "execution_count": 42,
   "metadata": {},
   "outputs": [
    {
     "data": {
      "text/plain": [
       "160"
      ]
     },
     "execution_count": 42,
     "metadata": {},
     "output_type": "execute_result"
    }
   ],
   "source": [
    "len(df.T)"
   ]
  },
  {
   "cell_type": "code",
   "execution_count": 43,
   "metadata": {},
   "outputs": [],
   "source": [
    "writer = pd.ExcelWriter('collection.xlsx')\n",
    "df.T.to_excel(writer,'Sheet1')\n",
    "writer.save()"
   ]
  },
  {
   "cell_type": "code",
   "execution_count": null,
   "metadata": {},
   "outputs": [],
   "source": []
  }
 ],
 "metadata": {
  "kernelspec": {
   "display_name": "Python 3",
   "language": "python",
   "name": "python3"
  },
  "language_info": {
   "codemirror_mode": {
    "name": "ipython",
    "version": 3
   },
   "file_extension": ".py",
   "mimetype": "text/x-python",
   "name": "python",
   "nbconvert_exporter": "python",
   "pygments_lexer": "ipython3",
   "version": "3.6.7"
  }
 },
 "nbformat": 4,
 "nbformat_minor": 2
}
